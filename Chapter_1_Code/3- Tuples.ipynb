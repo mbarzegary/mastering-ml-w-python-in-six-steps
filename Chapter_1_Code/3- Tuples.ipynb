{
 "cells": [
  {
   "cell_type": "markdown",
   "metadata": {},
   "source": [
    "### Tuples\n",
    "\n",
    "A tuple is a sequence of immutable Python objects. Tuples are sequences, just like lists. The differences between tuples and lists are, the tuples cannot be changed unlike lists and tuples use parentheses, whereas lists use square brackets"
   ]
  },
  {
   "cell_type": "code",
   "execution_count": 12,
   "metadata": {},
   "outputs": [
    {
     "name": "stdout",
     "output_type": "stream",
     "text": [
      "Empty Tuple:  ()\n",
      "Tuple with single item:  (1,)\n",
      "Sample Tuple : ('a', 'b', 'c', 'd', 1, 2, 3)\n"
     ]
    }
   ],
   "source": [
    "# Creating a tuple\n",
    "\n",
    "Tuple = ()\n",
    "print(\"Empty Tuple: \", Tuple)\n",
    "\n",
    "Tuple = (1,)\n",
    "print(\"Tuple with single item: \", Tuple)\n",
    "\n",
    "Tuple = ('a','b','c','d',1,2,3)\n",
    "print(\"Sample Tuple :\", Tuple)"
   ]
  },
  {
   "cell_type": "code",
   "execution_count": 13,
   "metadata": {},
   "outputs": [
    {
     "name": "stdout",
     "output_type": "stream",
     "text": [
      "3rd item of Tuple: c\n",
      "First 3 items of Tuple ('a', 'b')\n"
     ]
    }
   ],
   "source": [
    "# Accessing items in tuple\n",
    "\n",
    "print(\"3rd item of Tuple:\", Tuple[2])\n",
    "print(\"First 3 items of Tuple\", Tuple[0:2])"
   ]
  },
  {
   "cell_type": "code",
   "execution_count": 14,
   "metadata": {},
   "outputs": [
    {
     "name": "stdout",
     "output_type": "stream",
     "text": [
      "Sample Tuple:  "
     ]
    }
   ],
   "source": [
    "# Deleting tuple\n",
    "\n",
    "Tuple = ('a','b','c','d',1,2,3)\n",
    "print(\"Sample Tuple: \", end=' ') \n",
    "del Tuple\n",
    "#print(Tuple) # Will throw an error message as the tuple does not exist"
   ]
  },
  {
   "cell_type": "code",
   "execution_count": 15,
   "metadata": {},
   "outputs": [
    {
     "name": "stdout",
     "output_type": "stream",
     "text": [
      "Length of Tuple:  7\n",
      "Concatinated Tuple:  ('a', 'b', 'c', 'd', 1, 2, 3, 7, 8, 9)\n",
      "Repetition:  (1, 'a', 2, 'b', 1, 'a', 2, 'b', 1, 'a', 2, 'b')\n",
      "Membership check:  True\n",
      "1\n",
      "2\n",
      "3\n",
      "Negative sign will retrieve item from right:  8\n",
      "Sliced Tuple [2:]  ('c', 'd', 1, 2, 3, 7, 8, 9)\n",
      "Max of the Tuple (1,2,3,4,5,6,7,8,9,10):  10\n",
      "Min of the Tuple (1,2,3,4,5,6,7,8,9,10):  1\n",
      "List [1,2,3,4] converted to tuple:  <class 'tuple'>\n"
     ]
    }
   ],
   "source": [
    "# Basic Tuple operations\n",
    "Tuple = ('a','b','c','d',1,2,3)\n",
    "\n",
    "print(\"Length of Tuple: \", len(Tuple))\n",
    "\n",
    "Tuple_Concat = Tuple + (7,8,9)\n",
    "print(\"Concatinated Tuple: \", Tuple_Concat)\n",
    "\n",
    "print(\"Repetition: \", (1, 'a',2, 'b') * 3)\n",
    "print(\"Membership check: \", 3 in (1,2,3))\n",
    "\n",
    "# Iteration\n",
    "for x in (1, 2, 3): print(x)\n",
    "\n",
    "print(\"Negative sign will retrieve item from right: \", Tuple_Concat[-2])\n",
    "print(\"Sliced Tuple [2:] \", Tuple_Concat[2:])\n",
    "\n",
    "# Comparing two tuples\n",
    "#print(\"Comparing tuples (1,2,3) and (1,2,3,4): \", cmp((1,2,3), (1,2,3,4)))\n",
    "#print(\"Comparing tuples (1,2,3,4) and (1,2,3): \", cmp((1,2,3,4), (1,2,3)))\n",
    "\n",
    "# Find max\n",
    "print(\"Max of the Tuple (1,2,3,4,5,6,7,8,9,10): \", max((1,2,3,4,5,6,7,8,9,10)))\n",
    "print(\"Min of the Tuple (1,2,3,4,5,6,7,8,9,10): \", min((1,2,3,4,5,6,7,8,9,10)))\n",
    "print(\"List [1,2,3,4] converted to tuple: \", type(tuple([1,2,3,4])))"
   ]
  }
 ],
 "metadata": {
  "anaconda-cloud": {},
  "kernelspec": {
   "display_name": "machine_learning",
   "language": "python",
   "name": "machine_learning"
  },
  "language_info": {
   "codemirror_mode": {
    "name": "ipython",
    "version": 3
   },
   "file_extension": ".py",
   "mimetype": "text/x-python",
   "name": "python",
   "nbconvert_exporter": "python",
   "pygments_lexer": "ipython3",
   "version": "3.5.2"
  }
 },
 "nbformat": 4,
 "nbformat_minor": 1
}
